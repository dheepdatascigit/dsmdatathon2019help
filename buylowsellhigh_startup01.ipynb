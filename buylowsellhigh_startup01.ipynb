{
 "cells": [
  {
   "cell_type": "markdown",
   "metadata": {},
   "source": [
    "# Melbourne Data Science group - datathon 2019\n",
    "\n",
    "[Buy Low Sell High' 2019 Melbourne Datathon - INTRODUCTION](http://anotherdataminingblog.blogspot.com/2019/08/buy-low-sell-high.html)"
   ]
  },
  {
   "cell_type": "markdown",
   "metadata": {},
   "source": [
    "Below us python code to get you going (similar to R code given with dataset [blog post](http://anotherdataminingblog.blogspot.com/2019/08/buy-low-sell-high-data-and-code.html))\n"
   ]
  },
  {
   "cell_type": "code",
   "execution_count": 1,
   "metadata": {},
   "outputs": [],
   "source": [
    "import numpy as np\n",
    "import pandas as pd\n",
    "import matplotlib.pyplot as plt\n",
    "import seaborn as sns\n",
    "\n",
    "%matplotlib inline\n",
    "\n",
    "# Assuming file is stored in data folder in the same directory 'data/melbdatathon2019_buylowsellhigh.csv'\n",
    "datafile = \"..\\data\\datamelbdatathon2019_buylowsellhigh.csv\"\n",
    "\n"
   ]
  },
  {
   "cell_type": "code",
   "execution_count": 2,
   "metadata": {},
   "outputs": [],
   "source": [
    "#load data file\n",
    "df = pd.read_csv(\"..\\data\\melbdatathon2019_buylowsellhigh.csv\")"
   ]
  },
  {
   "cell_type": "code",
   "execution_count": 3,
   "metadata": {},
   "outputs": [
    {
     "data": {
      "text/plain": [
       "(4907361, 19)"
      ]
     },
     "execution_count": 3,
     "metadata": {},
     "output_type": "execute_result"
    }
   ],
   "source": [
    "#check the shape of the data frame\n",
    "df.shape"
   ]
  },
  {
   "cell_type": "code",
   "execution_count": 4,
   "metadata": {},
   "outputs": [
    {
     "data": {
      "text/plain": [
       "Index(['keys_pair', 'minutesSinceStart', 'gap', 'barClosePrice', 'tradePrice',\n",
       "       'Lpred1b', 'Lpred2b', 'Lpred3b', 'Lpred4b', 'Lpred5b', 'Lpred6b',\n",
       "       'Lpred7b', 'Lpred8b', 'Lpred9b', 'Lpred10b', 'Lpred11b', 'Lpred12b',\n",
       "       'Lpred13b', 'Lpred14b'],\n",
       "      dtype='object')"
      ]
     },
     "execution_count": 4,
     "metadata": {},
     "output_type": "execute_result"
    }
   ],
   "source": [
    "# list column names\n",
    "df.columns"
   ]
  },
  {
   "cell_type": "code",
   "execution_count": 5,
   "metadata": {},
   "outputs": [
    {
     "name": "stdout",
     "output_type": "stream",
     "text": [
      "unique key_pairs = 36\n"
     ]
    },
    {
     "data": {
      "text/plain": [
       "array(['0x_bitcoin', 'bitcoin_usdollar', 'bitcoincash_usdollar',\n",
       "       'cardano_bitcoin', 'dash_usdollar', 'litecoin_bitcoin',\n",
       "       'litecoin_tetherusd', 'monero_bitcoin', 'qtum_bitcoin',\n",
       "       'ripple_bitcoin', 'ripple_usdollar', 'stratis_bitcoin',\n",
       "       'tron_tetherusd', 'zcash_bitcoin', 'pair_1', 'pair_2', 'pair_3',\n",
       "       'pair_4', 'pair_5', 'pair_6', 'pair_7', 'pair_8', 'pair_9',\n",
       "       'pair_10', 'pair_11', 'pair_12', 'pair_13', 'pair_14', 'pair_15',\n",
       "       'pair_16', 'pair_17', 'pair_18', 'pair_19', 'pair_20', 'pair_21',\n",
       "       'pair_22'], dtype=object)"
      ]
     },
     "execution_count": 5,
     "metadata": {},
     "output_type": "execute_result"
    }
   ],
   "source": [
    "# list unique key_pairs\n",
    "print(f\"unique key_pairs = {df['keys_pair'].unique().shape[0]}\")\n",
    "df['keys_pair'].unique()"
   ]
  },
  {
   "cell_type": "code",
   "execution_count": 6,
   "metadata": {},
   "outputs": [
    {
     "data": {
      "text/plain": [
       "(132721, 19)"
      ]
     },
     "execution_count": 6,
     "metadata": {},
     "output_type": "execute_result"
    }
   ],
   "source": [
    "#price information is missing for the unnamed pairs\n",
    "filter_x1 = df.keys_pair == 'pair_1'\n",
    "x1 = df[filter_x1]\n",
    "x1.shape\n",
    "#132,721, 19"
   ]
  },
  {
   "cell_type": "code",
   "execution_count": 7,
   "metadata": {},
   "outputs": [
    {
     "data": {
      "text/html": [
       "<div>\n",
       "<style scoped>\n",
       "    .dataframe tbody tr th:only-of-type {\n",
       "        vertical-align: middle;\n",
       "    }\n",
       "\n",
       "    .dataframe tbody tr th {\n",
       "        vertical-align: top;\n",
       "    }\n",
       "\n",
       "    .dataframe thead th {\n",
       "        text-align: right;\n",
       "    }\n",
       "</style>\n",
       "<table border=\"1\" class=\"dataframe\">\n",
       "  <thead>\n",
       "    <tr style=\"text-align: right;\">\n",
       "      <th></th>\n",
       "      <th>count</th>\n",
       "      <th>mean</th>\n",
       "      <th>std</th>\n",
       "      <th>min</th>\n",
       "      <th>25%</th>\n",
       "      <th>50%</th>\n",
       "      <th>75%</th>\n",
       "      <th>max</th>\n",
       "    </tr>\n",
       "  </thead>\n",
       "  <tbody>\n",
       "    <tr>\n",
       "      <th>minutesSinceStart</th>\n",
       "      <td>132721.0</td>\n",
       "      <td>352090.381628</td>\n",
       "      <td>206304.298257</td>\n",
       "      <td>0.000000</td>\n",
       "      <td>173925.000000</td>\n",
       "      <td>349885.000000</td>\n",
       "      <td>521845.000000</td>\n",
       "      <td>711305.000000</td>\n",
       "    </tr>\n",
       "    <tr>\n",
       "      <th>gap</th>\n",
       "      <td>132721.0</td>\n",
       "      <td>0.001582</td>\n",
       "      <td>0.039746</td>\n",
       "      <td>0.000000</td>\n",
       "      <td>0.000000</td>\n",
       "      <td>0.000000</td>\n",
       "      <td>0.000000</td>\n",
       "      <td>1.000000</td>\n",
       "    </tr>\n",
       "    <tr>\n",
       "      <th>barClosePrice</th>\n",
       "      <td>0.0</td>\n",
       "      <td>NaN</td>\n",
       "      <td>NaN</td>\n",
       "      <td>NaN</td>\n",
       "      <td>NaN</td>\n",
       "      <td>NaN</td>\n",
       "      <td>NaN</td>\n",
       "      <td>NaN</td>\n",
       "    </tr>\n",
       "    <tr>\n",
       "      <th>tradePrice</th>\n",
       "      <td>0.0</td>\n",
       "      <td>NaN</td>\n",
       "      <td>NaN</td>\n",
       "      <td>NaN</td>\n",
       "      <td>NaN</td>\n",
       "      <td>NaN</td>\n",
       "      <td>NaN</td>\n",
       "      <td>NaN</td>\n",
       "    </tr>\n",
       "    <tr>\n",
       "      <th>Lpred1b</th>\n",
       "      <td>132721.0</td>\n",
       "      <td>-0.000168</td>\n",
       "      <td>0.000895</td>\n",
       "      <td>-0.016060</td>\n",
       "      <td>-0.000530</td>\n",
       "      <td>-0.000190</td>\n",
       "      <td>0.000167</td>\n",
       "      <td>0.012517</td>\n",
       "    </tr>\n",
       "    <tr>\n",
       "      <th>Lpred2b</th>\n",
       "      <td>132721.0</td>\n",
       "      <td>-0.000360</td>\n",
       "      <td>0.001292</td>\n",
       "      <td>-0.020643</td>\n",
       "      <td>-0.000932</td>\n",
       "      <td>-0.000398</td>\n",
       "      <td>0.000186</td>\n",
       "      <td>0.015790</td>\n",
       "    </tr>\n",
       "    <tr>\n",
       "      <th>Lpred3b</th>\n",
       "      <td>132721.0</td>\n",
       "      <td>-0.000534</td>\n",
       "      <td>0.001569</td>\n",
       "      <td>-0.022022</td>\n",
       "      <td>-0.001276</td>\n",
       "      <td>-0.000576</td>\n",
       "      <td>0.000194</td>\n",
       "      <td>0.016345</td>\n",
       "    </tr>\n",
       "    <tr>\n",
       "      <th>Lpred4b</th>\n",
       "      <td>132721.0</td>\n",
       "      <td>-0.000699</td>\n",
       "      <td>0.001769</td>\n",
       "      <td>-0.022716</td>\n",
       "      <td>-0.001596</td>\n",
       "      <td>-0.000739</td>\n",
       "      <td>0.000171</td>\n",
       "      <td>0.016070</td>\n",
       "    </tr>\n",
       "    <tr>\n",
       "      <th>Lpred5b</th>\n",
       "      <td>132721.0</td>\n",
       "      <td>-0.000856</td>\n",
       "      <td>0.001922</td>\n",
       "      <td>-0.023511</td>\n",
       "      <td>-0.001879</td>\n",
       "      <td>-0.000900</td>\n",
       "      <td>0.000128</td>\n",
       "      <td>0.015323</td>\n",
       "    </tr>\n",
       "    <tr>\n",
       "      <th>Lpred6b</th>\n",
       "      <td>132721.0</td>\n",
       "      <td>-0.001001</td>\n",
       "      <td>0.002053</td>\n",
       "      <td>-0.024841</td>\n",
       "      <td>-0.002114</td>\n",
       "      <td>-0.001056</td>\n",
       "      <td>0.000060</td>\n",
       "      <td>0.015092</td>\n",
       "    </tr>\n",
       "    <tr>\n",
       "      <th>Lpred7b</th>\n",
       "      <td>132721.0</td>\n",
       "      <td>-0.001268</td>\n",
       "      <td>0.002214</td>\n",
       "      <td>-0.024169</td>\n",
       "      <td>-0.002491</td>\n",
       "      <td>-0.001345</td>\n",
       "      <td>-0.000099</td>\n",
       "      <td>0.014395</td>\n",
       "    </tr>\n",
       "    <tr>\n",
       "      <th>Lpred8b</th>\n",
       "      <td>132721.0</td>\n",
       "      <td>-0.001733</td>\n",
       "      <td>0.002424</td>\n",
       "      <td>-0.024848</td>\n",
       "      <td>-0.003090</td>\n",
       "      <td>-0.001858</td>\n",
       "      <td>-0.000481</td>\n",
       "      <td>0.015266</td>\n",
       "    </tr>\n",
       "    <tr>\n",
       "      <th>Lpred9b</th>\n",
       "      <td>132721.0</td>\n",
       "      <td>-0.002088</td>\n",
       "      <td>0.002566</td>\n",
       "      <td>-0.022807</td>\n",
       "      <td>-0.003536</td>\n",
       "      <td>-0.002257</td>\n",
       "      <td>-0.000858</td>\n",
       "      <td>0.012848</td>\n",
       "    </tr>\n",
       "    <tr>\n",
       "      <th>Lpred10b</th>\n",
       "      <td>132721.0</td>\n",
       "      <td>-0.002804</td>\n",
       "      <td>0.002962</td>\n",
       "      <td>-0.029293</td>\n",
       "      <td>-0.004378</td>\n",
       "      <td>-0.003034</td>\n",
       "      <td>-0.001537</td>\n",
       "      <td>0.019334</td>\n",
       "    </tr>\n",
       "    <tr>\n",
       "      <th>Lpred11b</th>\n",
       "      <td>132721.0</td>\n",
       "      <td>-0.004375</td>\n",
       "      <td>0.002750</td>\n",
       "      <td>-0.030338</td>\n",
       "      <td>-0.005979</td>\n",
       "      <td>-0.004603</td>\n",
       "      <td>-0.003123</td>\n",
       "      <td>0.020648</td>\n",
       "    </tr>\n",
       "    <tr>\n",
       "      <th>Lpred12b</th>\n",
       "      <td>132721.0</td>\n",
       "      <td>-0.005489</td>\n",
       "      <td>0.002564</td>\n",
       "      <td>-0.026015</td>\n",
       "      <td>-0.007138</td>\n",
       "      <td>-0.005688</td>\n",
       "      <td>-0.004130</td>\n",
       "      <td>0.016509</td>\n",
       "    </tr>\n",
       "    <tr>\n",
       "      <th>Lpred13b</th>\n",
       "      <td>132721.0</td>\n",
       "      <td>-0.005834</td>\n",
       "      <td>0.002589</td>\n",
       "      <td>-0.025559</td>\n",
       "      <td>-0.007563</td>\n",
       "      <td>-0.006045</td>\n",
       "      <td>-0.004395</td>\n",
       "      <td>0.016608</td>\n",
       "    </tr>\n",
       "    <tr>\n",
       "      <th>Lpred14b</th>\n",
       "      <td>132721.0</td>\n",
       "      <td>-0.006197</td>\n",
       "      <td>0.002454</td>\n",
       "      <td>-0.023808</td>\n",
       "      <td>-0.007847</td>\n",
       "      <td>-0.006372</td>\n",
       "      <td>-0.004808</td>\n",
       "      <td>0.015800</td>\n",
       "    </tr>\n",
       "  </tbody>\n",
       "</table>\n",
       "</div>"
      ],
      "text/plain": [
       "                      count           mean            std       min  \\\n",
       "minutesSinceStart  132721.0  352090.381628  206304.298257  0.000000   \n",
       "gap                132721.0       0.001582       0.039746  0.000000   \n",
       "barClosePrice           0.0            NaN            NaN       NaN   \n",
       "tradePrice              0.0            NaN            NaN       NaN   \n",
       "Lpred1b            132721.0      -0.000168       0.000895 -0.016060   \n",
       "Lpred2b            132721.0      -0.000360       0.001292 -0.020643   \n",
       "Lpred3b            132721.0      -0.000534       0.001569 -0.022022   \n",
       "Lpred4b            132721.0      -0.000699       0.001769 -0.022716   \n",
       "Lpred5b            132721.0      -0.000856       0.001922 -0.023511   \n",
       "Lpred6b            132721.0      -0.001001       0.002053 -0.024841   \n",
       "Lpred7b            132721.0      -0.001268       0.002214 -0.024169   \n",
       "Lpred8b            132721.0      -0.001733       0.002424 -0.024848   \n",
       "Lpred9b            132721.0      -0.002088       0.002566 -0.022807   \n",
       "Lpred10b           132721.0      -0.002804       0.002962 -0.029293   \n",
       "Lpred11b           132721.0      -0.004375       0.002750 -0.030338   \n",
       "Lpred12b           132721.0      -0.005489       0.002564 -0.026015   \n",
       "Lpred13b           132721.0      -0.005834       0.002589 -0.025559   \n",
       "Lpred14b           132721.0      -0.006197       0.002454 -0.023808   \n",
       "\n",
       "                             25%            50%            75%            max  \n",
       "minutesSinceStart  173925.000000  349885.000000  521845.000000  711305.000000  \n",
       "gap                     0.000000       0.000000       0.000000       1.000000  \n",
       "barClosePrice                NaN            NaN            NaN            NaN  \n",
       "tradePrice                   NaN            NaN            NaN            NaN  \n",
       "Lpred1b                -0.000530      -0.000190       0.000167       0.012517  \n",
       "Lpred2b                -0.000932      -0.000398       0.000186       0.015790  \n",
       "Lpred3b                -0.001276      -0.000576       0.000194       0.016345  \n",
       "Lpred4b                -0.001596      -0.000739       0.000171       0.016070  \n",
       "Lpred5b                -0.001879      -0.000900       0.000128       0.015323  \n",
       "Lpred6b                -0.002114      -0.001056       0.000060       0.015092  \n",
       "Lpred7b                -0.002491      -0.001345      -0.000099       0.014395  \n",
       "Lpred8b                -0.003090      -0.001858      -0.000481       0.015266  \n",
       "Lpred9b                -0.003536      -0.002257      -0.000858       0.012848  \n",
       "Lpred10b               -0.004378      -0.003034      -0.001537       0.019334  \n",
       "Lpred11b               -0.005979      -0.004603      -0.003123       0.020648  \n",
       "Lpred12b               -0.007138      -0.005688      -0.004130       0.016509  \n",
       "Lpred13b               -0.007563      -0.006045      -0.004395       0.016608  \n",
       "Lpred14b               -0.007847      -0.006372      -0.004808       0.015800  "
      ]
     },
     "execution_count": 7,
     "metadata": {},
     "output_type": "execute_result"
    }
   ],
   "source": [
    "# summarise dataframe\n",
    "x1.describe().transpose()"
   ]
  },
  {
   "cell_type": "code",
   "execution_count": 8,
   "metadata": {},
   "outputs": [
    {
     "data": {
      "text/plain": [
       "<matplotlib.axes._subplots.AxesSubplot at 0x2a3305dda20>"
      ]
     },
     "execution_count": 8,
     "metadata": {},
     "output_type": "execute_result"
    },
    {
     "data": {
      "image/png": "[encoded data removed]",
      "text/plain": [
       "<Figure size 720x432 with 1 Axes>"
      ]
     },
     "metadata": {
      "needs_background": "light"
     },
     "output_type": "display_data"
    }
   ],
   "source": [
    "#distribution of the predictions\n",
    "df.Lpred1b.hist(bins=100, figsize=(10, 6))"
   ]
  },
  {
   "cell_type": "code",
   "execution_count": 9,
   "metadata": {},
   "outputs": [],
   "source": [
    "#time series of prices and predictions\n",
    "filter_x2 = df.keys_pair == 'bitcoin_usdollar'\n",
    "x = df[filter_x2].head(1000)"
   ]
  },
  {
   "cell_type": "code",
   "execution_count": 10,
   "metadata": {},
   "outputs": [
    {
     "data": {
      "text/plain": [
       "<matplotlib.axes._subplots.AxesSubplot at 0x2a3305dd4e0>"
      ]
     },
     "execution_count": 10,
     "metadata": {},
     "output_type": "execute_result"
    },
    {
     "data": {
      "image/png": "[encoded data removed]",
      "text/plain": [
       "<Figure size 432x288 with 1 Axes>"
      ]
     },
     "metadata": {
      "needs_background": "light"
     },
     "output_type": "display_data"
    }
   ],
   "source": [
    "sns.lineplot(x='minutesSinceStart', y='barClosePrice', data=x)"
   ]
  },
  {
   "cell_type": "code",
   "execution_count": 11,
   "metadata": {},
   "outputs": [
    {
     "data": {
      "text/plain": [
       "<matplotlib.axes._subplots.AxesSubplot at 0x2a304065ac8>"
      ]
     },
     "execution_count": 11,
     "metadata": {},
     "output_type": "execute_result"
    },
    {
     "data": {
      "image/png": "[encoded data removed]",
      "text/plain": [
       "<Figure size 432x288 with 1 Axes>"
      ]
     },
     "metadata": {
      "needs_background": "light"
     },
     "output_type": "display_data"
    }
   ],
   "source": [
    "sns.lineplot(x='minutesSinceStart', y='Lpred1b', data=x)"
   ]
  },
  {
   "cell_type": "code",
   "execution_count": null,
   "metadata": {},
   "outputs": [],
   "source": []
  }
 ],
 "metadata": {
  "kernelspec": {
   "display_name": "Python 3",
   "language": "python",
   "name": "python3"
  },
  "language_info": {
   "codemirror_mode": {
    "name": "ipython",
    "version": 3
   },
   "file_extension": ".py",
   "mimetype": "text/x-python",
   "name": "python",
   "nbconvert_exporter": "python",
   "pygments_lexer": "ipython3",
   "version": "3.7.2"
  }
 },
 "nbformat": 4,
 "nbformat_minor": 2
}
